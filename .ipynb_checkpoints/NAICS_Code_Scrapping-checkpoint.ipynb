{
 "cells": [
  {
   "cell_type": "code",
   "execution_count": 1,
   "metadata": {},
   "outputs": [],
   "source": [
    "from bs4 import BeautifulSoup as bs\n",
    "from splinter import Browser\n",
    "import pandas as pd"
   ]
  },
  {
   "cell_type": "code",
   "execution_count": 2,
   "metadata": {},
   "outputs": [],
   "source": [
    "executable_path={'executable_path':'/usr/local/bin/chromedriver'}\n",
    "browser=Browser('chrome',**executable_path, headless=False)"
   ]
  },
  {
   "cell_type": "code",
   "execution_count": 3,
   "metadata": {},
   "outputs": [],
   "source": [
    "url='https://www.naics.com/search-naics-codes-by-industry/'\n",
    "browser.visit(url)\n",
    "html=browser.html"
   ]
  },
  {
   "cell_type": "code",
   "execution_count": 4,
   "metadata": {},
   "outputs": [],
   "source": [
    "soup=bs(html,'html.parser')"
   ]
  },
  {
   "cell_type": "code",
   "execution_count": 5,
   "metadata": {},
   "outputs": [],
   "source": [
    "results=soup.find_all('td',{'class':'noWrap'})"
   ]
  },
  {
   "cell_type": "code",
   "execution_count": 9,
   "metadata": {},
   "outputs": [
    {
     "name": "stdout",
     "output_type": "stream",
     "text": [
      "[<td class=\"first_child noWrap\"><a href=\"https://www.naics.com/six-digit-naics/?code=11\">11</a></td>, <td class=\"first_child noWrap\"><a href=\"https://www.naics.com/six-digit-naics/?code=21\">21</a></td>, <td class=\"first_child noWrap\"><a href=\"https://www.naics.com/six-digit-naics/?code=22\">22</a></td>, <td class=\"first_child noWrap\"><a href=\"https://www.naics.com/six-digit-naics/?code=23\">23</a></td>, <td class=\"first_child noWrap\"><a href=\"https://www.naics.com/six-digit-naics/?code=31-33\">31-33</a></td>, <td class=\"first_child noWrap\"><a href=\"https://www.naics.com/six-digit-naics/?code=42\">42</a></td>, <td class=\"first_child noWrap\"><a href=\"https://www.naics.com/six-digit-naics/?code=44-45\">44-45</a></td>, <td class=\"first_child noWrap\"><a href=\"https://www.naics.com/six-digit-naics/?code=48-49\">48-49</a></td>, <td class=\"first_child noWrap\"><a href=\"https://www.naics.com/six-digit-naics/?code=51\">51</a></td>, <td class=\"first_child noWrap\"><a href=\"https://www.naics.com/six-digit-naics/?code=52\">52</a></td>, <td class=\"first_child noWrap\"><a href=\"https://www.naics.com/six-digit-naics/?code=53\">53</a></td>, <td class=\"first_child noWrap\"><a href=\"https://www.naics.com/six-digit-naics/?code=54\">54</a></td>, <td class=\"first_child noWrap\"><a href=\"https://www.naics.com/six-digit-naics/?code=55\">55</a></td>, <td class=\"first_child noWrap\"><a href=\"https://www.naics.com/six-digit-naics/?code=56\">56</a></td>, <td class=\"first_child noWrap\"><a href=\"https://www.naics.com/six-digit-naics/?code=61\">61</a></td>, <td class=\"first_child noWrap\"><a href=\"https://www.naics.com/six-digit-naics/?code=62\">62</a></td>, <td class=\"first_child noWrap\"><a href=\"https://www.naics.com/six-digit-naics/?code=71\">71</a></td>, <td class=\"first_child noWrap\"><a href=\"https://www.naics.com/six-digit-naics/?code=72\">72</a></td>, <td class=\"first_child noWrap\"><a href=\"https://www.naics.com/six-digit-naics/?code=81\">81</a></td>, <td class=\"first_child noWrap\"><a href=\"https://www.naics.com/six-digit-naics/?code=92\">92</a></td>]\n"
     ]
    }
   ],
   "source": [
    "print(results)"
   ]
  },
  {
   "cell_type": "code",
   "execution_count": 7,
   "metadata": {},
   "outputs": [],
   "source": [
    "code_url_list=[result.a['href'] for result in results]"
   ]
  },
  {
   "cell_type": "code",
   "execution_count": 8,
   "metadata": {},
   "outputs": [
    {
     "name": "stdout",
     "output_type": "stream",
     "text": [
      "['https://www.naics.com/six-digit-naics/?code=11', 'https://www.naics.com/six-digit-naics/?code=21', 'https://www.naics.com/six-digit-naics/?code=22', 'https://www.naics.com/six-digit-naics/?code=23', 'https://www.naics.com/six-digit-naics/?code=31-33', 'https://www.naics.com/six-digit-naics/?code=42', 'https://www.naics.com/six-digit-naics/?code=44-45', 'https://www.naics.com/six-digit-naics/?code=48-49', 'https://www.naics.com/six-digit-naics/?code=51', 'https://www.naics.com/six-digit-naics/?code=52', 'https://www.naics.com/six-digit-naics/?code=53', 'https://www.naics.com/six-digit-naics/?code=54', 'https://www.naics.com/six-digit-naics/?code=55', 'https://www.naics.com/six-digit-naics/?code=56', 'https://www.naics.com/six-digit-naics/?code=61', 'https://www.naics.com/six-digit-naics/?code=62', 'https://www.naics.com/six-digit-naics/?code=71', 'https://www.naics.com/six-digit-naics/?code=72', 'https://www.naics.com/six-digit-naics/?code=81', 'https://www.naics.com/six-digit-naics/?code=92']\n"
     ]
    }
   ],
   "source": [
    "print(code_url_list)"
   ]
  },
  {
   "cell_type": "code",
   "execution_count": 10,
   "metadata": {},
   "outputs": [],
   "source": [
    "browser.quit()"
   ]
  },
  {
   "cell_type": "code",
   "execution_count": 23,
   "metadata": {},
   "outputs": [],
   "source": [
    "table_list=[]\n",
    "for url in code_url_list:\n",
    "    tables=pd.read_html(url)\n",
    "    df=tables[0]\n",
    "    df_new=df[['Codes','Titles']]\n",
    "    table_list.append(df_new)"
   ]
  },
  {
   "cell_type": "code",
   "execution_count": 25,
   "metadata": {},
   "outputs": [],
   "source": [
    "big_df=pd.concat([*table_list])"
   ]
  },
  {
   "cell_type": "code",
   "execution_count": 27,
   "metadata": {},
   "outputs": [],
   "source": [
    "big_df.to_csv('NAICS_CODE.csv',index=False, header=True)"
   ]
  },
  {
   "cell_type": "code",
   "execution_count": null,
   "metadata": {},
   "outputs": [],
   "source": []
  },
  {
   "cell_type": "code",
   "execution_count": null,
   "metadata": {},
   "outputs": [],
   "source": []
  }
 ],
 "metadata": {
  "kernelspec": {
   "display_name": "Python 3",
   "language": "python",
   "name": "python3"
  },
  "language_info": {
   "codemirror_mode": {
    "name": "ipython",
    "version": 3
   },
   "file_extension": ".py",
   "mimetype": "text/x-python",
   "name": "python",
   "nbconvert_exporter": "python",
   "pygments_lexer": "ipython3",
   "version": "3.7.3"
  }
 },
 "nbformat": 4,
 "nbformat_minor": 2
}
