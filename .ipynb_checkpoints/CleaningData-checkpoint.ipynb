{
 "cells": [
  {
   "cell_type": "code",
   "execution_count": 1,
   "metadata": {},
   "outputs": [],
   "source": [
    "# Dependencies\n",
    "import pandas as pd"
   ]
  },
  {
   "cell_type": "code",
   "execution_count": 2,
   "metadata": {},
   "outputs": [],
   "source": [
    "data_list=['../H1B_Data/H-1B_Disclosure_RAW_Data_FY15.csv','../H1B_Data/H-1B_Disclosure_RAW_Data_FY16.csv','../H1B_Data/H-1B_Disclosure_RAW_Data_FY17.csv','../H1B_Data/H-1B_Disclosure_RAW_Data_FY18.csv']"
   ]
  },
  {
   "cell_type": "code",
   "execution_count": 3,
   "metadata": {},
   "outputs": [],
   "source": [
    "def clean(data):\n",
    "    df=pd.read_csv(data, encoding=\"ISO-8859-1\")\n",
    "    new_df=df[[\"CASE_NUMBER\",\"CASE_STATUS\", \"DECISION_DATE\", \"EMPLOYER_NAME\",\"EMPLOYER_CITY\",\"EMPLOYER_STATE\", \"EMPLOYER_COUNTRY\", \"NAIC_CODE\"]]\n",
    "    us_df=new_df[new_df[\"EMPLOYER_COUNTRY\"]==\"UNITED STATES OF AMERICA\"]\n",
    "    return us_df\n",
    "    "
   ]
  },
  {
   "cell_type": "code",
   "execution_count": 4,
   "metadata": {},
   "outputs": [
    {
     "name": "stderr",
     "output_type": "stream",
     "text": [
      "/anaconda3/lib/python3.7/site-packages/IPython/core/interactiveshell.py:3214: DtypeWarning: Columns (14,15) have mixed types. Specify dtype option on import or set low_memory=False.\n",
      "  if (yield from self.run_code(code, result)):\n",
      "/anaconda3/lib/python3.7/site-packages/IPython/core/interactiveshell.py:3214: DtypeWarning: Columns (14,15,16,24) have mixed types. Specify dtype option on import or set low_memory=False.\n",
      "  if (yield from self.run_code(code, result)):\n",
      "/anaconda3/lib/python3.7/site-packages/IPython/core/interactiveshell.py:3214: DtypeWarning: Columns (15,16) have mixed types. Specify dtype option on import or set low_memory=False.\n",
      "  if (yield from self.run_code(code, result)):\n"
     ]
    }
   ],
   "source": [
    "H1B_df_list=[]\n",
    "for data in data_list:\n",
    "    h1b_df=clean(data)\n",
    "    H1B_df_list.append(h1b_df)\n",
    "all_H1B_df=pd.concat([*H1B_df_list]) \n",
    "all_H1B_df['EMPLOYER_NAME']=all_H1B_df['EMPLOYER_NAME'].str.replace(',','') #get rid of comma for database\n",
    "all_H1B_df.to_csv('../H1B_Data/Pre_Cleaned_H1B_Data.csv',index=False, header=True)\n"
   ]
  },
  {
   "cell_type": "code",
   "execution_count": 5,
   "metadata": {},
   "outputs": [],
   "source": [
    "H1B_no_missing=all_H1B_df.dropna(how='any') #get rid of missing data\n",
    "employee_df=H1B_no_missing[[\"CASE_NUMBER\",\"CASE_STATUS\", \"DECISION_DATE\", \"EMPLOYER_NAME\",\"NAIC_CODE\"]]\n",
    "employer_df=H1B_no_missing[[\"EMPLOYER_NAME\",\"EMPLOYER_CITY\",\"EMPLOYER_STATE\"]]"
   ]
  },
  {
   "cell_type": "code",
   "execution_count": 6,
   "metadata": {},
   "outputs": [
    {
     "name": "stderr",
     "output_type": "stream",
     "text": [
      "/anaconda3/lib/python3.7/site-packages/ipykernel_launcher.py:1: SettingWithCopyWarning: \n",
      "A value is trying to be set on a copy of a slice from a DataFrame\n",
      "\n",
      "See the caveats in the documentation: http://pandas.pydata.org/pandas-docs/stable/indexing.html#indexing-view-versus-copy\n",
      "  \"\"\"Entry point for launching an IPython kernel.\n"
     ]
    }
   ],
   "source": [
    "employer_df.drop_duplicates(subset=\"EMPLOYER_NAME\",keep=\"first\",inplace=True)\n",
    "reset_employer_df=employer_df.reset_index(inplace=False, drop=True) #reset index and drop old index, old index has duplicate values due to concatdenation\n",
    "new_reset_employer_df=reset_employer_df.reset_index(inplace=False, drop=False)# reset index again keep previous index to rename as EMP_ID"
   ]
  },
  {
   "cell_type": "code",
   "execution_count": 7,
   "metadata": {},
   "outputs": [],
   "source": [
    "\n",
    "new_employer_df=new_reset_employer_df.rename(columns={'index':'EMP_ID'})\n",
    "new_employer_df.head(10)\n",
    "new_employer_df.to_csv('../H1B_Data/employer.csv',index=False)"
   ]
  },
  {
   "cell_type": "code",
   "execution_count": 8,
   "metadata": {},
   "outputs": [],
   "source": [
    "merge_df=pd.merge(employee_df,new_employer_df,on=\"EMPLOYER_NAME\")"
   ]
  },
  {
   "cell_type": "code",
   "execution_count": 9,
   "metadata": {},
   "outputs": [
    {
     "data": {
      "text/html": [
       "<div>\n",
       "<style scoped>\n",
       "    .dataframe tbody tr th:only-of-type {\n",
       "        vertical-align: middle;\n",
       "    }\n",
       "\n",
       "    .dataframe tbody tr th {\n",
       "        vertical-align: top;\n",
       "    }\n",
       "\n",
       "    .dataframe thead th {\n",
       "        text-align: right;\n",
       "    }\n",
       "</style>\n",
       "<table border=\"1\" class=\"dataframe\">\n",
       "  <thead>\n",
       "    <tr style=\"text-align: right;\">\n",
       "      <th></th>\n",
       "      <th>CASE_NUMBER</th>\n",
       "      <th>CASE_STATUS</th>\n",
       "      <th>DECISION_DATE</th>\n",
       "      <th>EMPLOYER_NAME</th>\n",
       "      <th>NAIC_CODE</th>\n",
       "      <th>EMP_ID</th>\n",
       "      <th>EMPLOYER_CITY</th>\n",
       "      <th>EMPLOYER_STATE</th>\n",
       "    </tr>\n",
       "  </thead>\n",
       "  <tbody>\n",
       "    <tr>\n",
       "      <th>0</th>\n",
       "      <td>I-200-09121-701936</td>\n",
       "      <td>WITHDRAWN</td>\n",
       "      <td>2/5/2015</td>\n",
       "      <td>MEDTRONIC INC.</td>\n",
       "      <td>334510</td>\n",
       "      <td>0</td>\n",
       "      <td>MINNEAPOLIS</td>\n",
       "      <td>MN</td>\n",
       "    </tr>\n",
       "    <tr>\n",
       "      <th>1</th>\n",
       "      <td>I-200-12076-544466</td>\n",
       "      <td>CERTIFIED-WITHDRAWN</td>\n",
       "      <td>5/18/2015</td>\n",
       "      <td>MEDTRONIC INC.</td>\n",
       "      <td>334510</td>\n",
       "      <td>0</td>\n",
       "      <td>MINNEAPOLIS</td>\n",
       "      <td>MN</td>\n",
       "    </tr>\n",
       "    <tr>\n",
       "      <th>2</th>\n",
       "      <td>I-200-12193-010328</td>\n",
       "      <td>CERTIFIED-WITHDRAWN</td>\n",
       "      <td>4/29/2015</td>\n",
       "      <td>MEDTRONIC INC.</td>\n",
       "      <td>334510</td>\n",
       "      <td>0</td>\n",
       "      <td>MINNEAPOLIS</td>\n",
       "      <td>MN</td>\n",
       "    </tr>\n",
       "    <tr>\n",
       "      <th>3</th>\n",
       "      <td>I-200-12208-410867</td>\n",
       "      <td>CERTIFIED-WITHDRAWN</td>\n",
       "      <td>4/9/2015</td>\n",
       "      <td>MEDTRONIC INC.</td>\n",
       "      <td>334510</td>\n",
       "      <td>0</td>\n",
       "      <td>MINNEAPOLIS</td>\n",
       "      <td>MN</td>\n",
       "    </tr>\n",
       "    <tr>\n",
       "      <th>4</th>\n",
       "      <td>I-200-12306-427411</td>\n",
       "      <td>CERTIFIED-WITHDRAWN</td>\n",
       "      <td>6/8/2015</td>\n",
       "      <td>MEDTRONIC INC.</td>\n",
       "      <td>334510</td>\n",
       "      <td>0</td>\n",
       "      <td>MINNEAPOLIS</td>\n",
       "      <td>MN</td>\n",
       "    </tr>\n",
       "  </tbody>\n",
       "</table>\n",
       "</div>"
      ],
      "text/plain": [
       "          CASE_NUMBER          CASE_STATUS DECISION_DATE   EMPLOYER_NAME  \\\n",
       "0  I-200-09121-701936            WITHDRAWN      2/5/2015  MEDTRONIC INC.   \n",
       "1  I-200-12076-544466  CERTIFIED-WITHDRAWN     5/18/2015  MEDTRONIC INC.   \n",
       "2  I-200-12193-010328  CERTIFIED-WITHDRAWN     4/29/2015  MEDTRONIC INC.   \n",
       "3  I-200-12208-410867  CERTIFIED-WITHDRAWN      4/9/2015  MEDTRONIC INC.   \n",
       "4  I-200-12306-427411  CERTIFIED-WITHDRAWN      6/8/2015  MEDTRONIC INC.   \n",
       "\n",
       "  NAIC_CODE  EMP_ID EMPLOYER_CITY EMPLOYER_STATE  \n",
       "0    334510       0   MINNEAPOLIS             MN  \n",
       "1    334510       0   MINNEAPOLIS             MN  \n",
       "2    334510       0   MINNEAPOLIS             MN  \n",
       "3    334510       0   MINNEAPOLIS             MN  \n",
       "4    334510       0   MINNEAPOLIS             MN  "
      ]
     },
     "execution_count": 9,
     "metadata": {},
     "output_type": "execute_result"
    }
   ],
   "source": [
    "merge_df.head()"
   ]
  },
  {
   "cell_type": "code",
   "execution_count": 10,
   "metadata": {},
   "outputs": [],
   "source": [
    "new_employee_df=merge_df[[\"CASE_NUMBER\",\"CASE_STATUS\", \"DECISION_DATE\", \"EMP_ID\",\"NAIC_CODE\"]]\n",
    "new_employee_df.head(10)\n",
    "employee_no_missing_df=new_employee_df.dropna(how='any')\n",
    "employee_no_missing_df['NAIC_CODE'].astype(int)\n",
    "#employee_no_missing_df.to_csv('../H1B_Data/employee.csv',index=False)"
   ]
  },
  {
   "cell_type": "code",
   "execution_count": 12,
   "metadata": {},
   "outputs": [],
   "source": [
    "nacis_df=pd.read_csv('../H1B_Data/NAICS_CODE.csv')"
   ]
  },
  {
   "cell_type": "code",
   "execution_count": 14,
   "metadata": {},
   "outputs": [],
   "source": [
    "nac_employee_merge=pd.merge(employee_no_missing_df,nacis_df,left_on='NAIC_CODE',right_on='Codes')"
   ]
  },
  {
   "cell_type": "code",
   "execution_count": 15,
   "metadata": {},
   "outputs": [
    {
     "data": {
      "text/html": [
       "<div>\n",
       "<style scoped>\n",
       "    .dataframe tbody tr th:only-of-type {\n",
       "        vertical-align: middle;\n",
       "    }\n",
       "\n",
       "    .dataframe tbody tr th {\n",
       "        vertical-align: top;\n",
       "    }\n",
       "\n",
       "    .dataframe thead th {\n",
       "        text-align: right;\n",
       "    }\n",
       "</style>\n",
       "<table border=\"1\" class=\"dataframe\">\n",
       "  <thead>\n",
       "    <tr style=\"text-align: right;\">\n",
       "      <th></th>\n",
       "      <th>CASE_NUMBER</th>\n",
       "      <th>CASE_STATUS</th>\n",
       "      <th>DECISION_DATE</th>\n",
       "      <th>EMP_ID</th>\n",
       "      <th>NAIC_CODE</th>\n",
       "      <th>Codes</th>\n",
       "      <th>Titles</th>\n",
       "    </tr>\n",
       "  </thead>\n",
       "  <tbody>\n",
       "    <tr>\n",
       "      <th>0</th>\n",
       "      <td>I-200-09121-701936</td>\n",
       "      <td>WITHDRAWN</td>\n",
       "      <td>2/5/2015</td>\n",
       "      <td>0</td>\n",
       "      <td>334510</td>\n",
       "      <td>334510</td>\n",
       "      <td>Electromedical and Electrotherapeutic Apparatu...</td>\n",
       "    </tr>\n",
       "    <tr>\n",
       "      <th>1</th>\n",
       "      <td>I-200-12076-544466</td>\n",
       "      <td>CERTIFIED-WITHDRAWN</td>\n",
       "      <td>5/18/2015</td>\n",
       "      <td>0</td>\n",
       "      <td>334510</td>\n",
       "      <td>334510</td>\n",
       "      <td>Electromedical and Electrotherapeutic Apparatu...</td>\n",
       "    </tr>\n",
       "    <tr>\n",
       "      <th>2</th>\n",
       "      <td>I-200-12193-010328</td>\n",
       "      <td>CERTIFIED-WITHDRAWN</td>\n",
       "      <td>4/29/2015</td>\n",
       "      <td>0</td>\n",
       "      <td>334510</td>\n",
       "      <td>334510</td>\n",
       "      <td>Electromedical and Electrotherapeutic Apparatu...</td>\n",
       "    </tr>\n",
       "    <tr>\n",
       "      <th>3</th>\n",
       "      <td>I-200-12208-410867</td>\n",
       "      <td>CERTIFIED-WITHDRAWN</td>\n",
       "      <td>4/9/2015</td>\n",
       "      <td>0</td>\n",
       "      <td>334510</td>\n",
       "      <td>334510</td>\n",
       "      <td>Electromedical and Electrotherapeutic Apparatu...</td>\n",
       "    </tr>\n",
       "    <tr>\n",
       "      <th>4</th>\n",
       "      <td>I-200-12306-427411</td>\n",
       "      <td>CERTIFIED-WITHDRAWN</td>\n",
       "      <td>6/8/2015</td>\n",
       "      <td>0</td>\n",
       "      <td>334510</td>\n",
       "      <td>334510</td>\n",
       "      <td>Electromedical and Electrotherapeutic Apparatu...</td>\n",
       "    </tr>\n",
       "  </tbody>\n",
       "</table>\n",
       "</div>"
      ],
      "text/plain": [
       "          CASE_NUMBER          CASE_STATUS DECISION_DATE  EMP_ID NAIC_CODE  \\\n",
       "0  I-200-09121-701936            WITHDRAWN      2/5/2015       0    334510   \n",
       "1  I-200-12076-544466  CERTIFIED-WITHDRAWN     5/18/2015       0    334510   \n",
       "2  I-200-12193-010328  CERTIFIED-WITHDRAWN     4/29/2015       0    334510   \n",
       "3  I-200-12208-410867  CERTIFIED-WITHDRAWN      4/9/2015       0    334510   \n",
       "4  I-200-12306-427411  CERTIFIED-WITHDRAWN      6/8/2015       0    334510   \n",
       "\n",
       "    Codes                                             Titles  \n",
       "0  334510  Electromedical and Electrotherapeutic Apparatu...  \n",
       "1  334510  Electromedical and Electrotherapeutic Apparatu...  \n",
       "2  334510  Electromedical and Electrotherapeutic Apparatu...  \n",
       "3  334510  Electromedical and Electrotherapeutic Apparatu...  \n",
       "4  334510  Electromedical and Electrotherapeutic Apparatu...  "
      ]
     },
     "execution_count": 15,
     "metadata": {},
     "output_type": "execute_result"
    }
   ],
   "source": [
    "nac_employee_merge.head()"
   ]
  },
  {
   "cell_type": "code",
   "execution_count": 17,
   "metadata": {},
   "outputs": [],
   "source": [
    "update_employee=nac_employee_merge[[\"CASE_NUMBER\",\"CASE_STATUS\", \"DECISION_DATE\", \"EMP_ID\",\"NAIC_CODE\"]]\n",
    "update_employee.to_csv('../H1B_Data/employee.csv',index=False)"
   ]
  },
  {
   "cell_type": "code",
   "execution_count": null,
   "metadata": {},
   "outputs": [],
   "source": []
  },
  {
   "cell_type": "code",
   "execution_count": null,
   "metadata": {},
   "outputs": [],
   "source": []
  }
 ],
 "metadata": {
  "kernelspec": {
   "display_name": "Python 3",
   "language": "python",
   "name": "python3"
  },
  "language_info": {
   "codemirror_mode": {
    "name": "ipython",
    "version": 3
   },
   "file_extension": ".py",
   "mimetype": "text/x-python",
   "name": "python",
   "nbconvert_exporter": "python",
   "pygments_lexer": "ipython3",
   "version": "3.7.3"
  }
 },
 "nbformat": 4,
 "nbformat_minor": 2
}
